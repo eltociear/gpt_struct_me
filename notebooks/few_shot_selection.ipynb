{
 "cells": [
  {
   "attachments": {},
   "cell_type": "markdown",
   "metadata": {},
   "source": [
    "# Few-Shot Demonstration Selection\n",
    "\n",
    "Select the best example to use as a demonstatration in the few-prompt tests.\n",
    "\n",
    "The goal is to find the document that not only contains a good quantity of the entity to be extracted but also a good divercity in the types of entties to be extracted. "
   ]
  },
  {
   "cell_type": "code",
   "execution_count": 1,
   "metadata": {},
   "outputs": [],
   "source": [
    "from collections import Counter\n",
    "from pathlib import Path\n",
    "\n",
    "import numpy as np\n",
    "\n",
    "from src.reader import read_lusa, read_timebank\n",
    "from src.prompts import Prompter\n",
    "\n",
    "ROOT = Path().resolve().parent"
   ]
  },
  {
   "cell_type": "markdown",
   "metadata": {},
   "source": [
    "## Portuguese"
   ]
  },
  {
   "cell_type": "code",
   "execution_count": 2,
   "metadata": {},
   "outputs": [],
   "source": [
    "DATA_PATH = ROOT / \"resources\" / \"lusa_news\"\n",
    "dataset = read_lusa(DATA_PATH)"
   ]
  },
  {
   "cell_type": "code",
   "execution_count": 3,
   "metadata": {},
   "outputs": [],
   "source": [
    "SAMPLE_DOCS_IDS = [\n",
    "    \"lusa_189\",\n",
    "    \"lusa_100\",\n",
    "    \"lusa_197\",\n",
    "    \"lusa_161\",\n",
    "    \"lusa_116\",\n",
    "    \"lusa_176\",\n",
    "    \"lusa_195\",\n",
    "    \"lusa_173\",\n",
    "    \"lusa_172\",\n",
    "    \"lusa_13\",\n",
    "    \"lusa_142\",\n",
    "    \"lusa_126\",\n",
    "    \"lusa_188\",\n",
    "    \"lusa_107\",\n",
    "    \"lusa_203\",\n",
    "    \"lusa_191\",\n",
    "    \"lusa_170\",\n",
    "    \"lusa_133\",\n",
    "    \"lusa_179\",\n",
    "    \"lusa_155\",\n",
    "]\n",
    "\n",
    "# remove documents used in the selection of the prompts\n",
    "dataset = [doc for doc in dataset if doc.id not in SAMPLE_DOCS_IDS]"
   ]
  },
  {
   "cell_type": "code",
   "execution_count": 4,
   "metadata": {},
   "outputs": [],
   "source": [
    "def get_best_document(documents, entities, attribute):\n",
    "    best_doc = None\n",
    "    max_n_entities, max_n_classes = None, None\n",
    "    for doc in documents:\n",
    "        \n",
    "        doc_classes = set([\n",
    "            getattr(entity, attribute)\n",
    "            for entity in getattr(doc, entities)\n",
    "            if hasattr(entity, str(attribute))\n",
    "        ])\n",
    "        \n",
    "        n_doc_classes = len(doc_classes)\n",
    "        n_entities = len(getattr(doc, entities))\n",
    "\n",
    "        if best_doc is None:\n",
    "            best_doc = doc\n",
    "            max_n_entities = n_entities\n",
    "            max_n_classes = n_doc_classes\n",
    "            continue\n",
    "        \n",
    "        if n_doc_classes >= max_n_classes and n_entities >= max_n_entities:\n",
    "            max_n_entities = n_entities\n",
    "            max_n_classes = n_doc_classes\n",
    "            best_doc = doc\n",
    "    return best_doc"
   ]
  },
  {
   "attachments": {},
   "cell_type": "markdown",
   "metadata": {},
   "source": [
    "### Events"
   ]
  },
  {
   "cell_type": "code",
   "execution_count": 5,
   "metadata": {},
   "outputs": [
    {
     "name": "stdout",
     "output_type": "stream",
     "text": [
      "Event classes: {'State', 'I_Action', 'Reporting', 'Perception', 'I_State', 'Aspectual', 'Occurrence'}\n"
     ]
    }
   ],
   "source": [
    "event_classes = set(event.class_ for doc in dataset for event in doc.events if hasattr(event, \"class_\"))\n",
    "print(\"Event classes:\", event_classes)"
   ]
  },
  {
   "cell_type": "code",
   "execution_count": 6,
   "metadata": {},
   "outputs": [
    {
     "name": "stdout",
     "output_type": "stream",
     "text": [
      "Max events per document: 46\n"
     ]
    }
   ],
   "source": [
    "n_event_per_doc = [len(doc.events) for doc in dataset] \n",
    "max_events = max(n_event_per_doc)\n",
    "\n",
    "print(\"Max events per document:\", max_events)"
   ]
  },
  {
   "cell_type": "code",
   "execution_count": 7,
   "metadata": {},
   "outputs": [
    {
     "name": "stdout",
     "output_type": "stream",
     "text": [
      "Max events per document class count: Counter({'Occurrence': 20, 'State': 18, 'Reporting': 6, 'I_Action': 1, 'I_State': 1})\n"
     ]
    }
   ],
   "source": [
    "max_events_idx = np.argmax(n_event_per_doc)\n",
    "doc_max_events = dataset[max_events_idx]\n",
    "\n",
    "max_doc_class_count = Counter([event.class_ for event in doc_max_events.events if hasattr(event, \"class_\")])\n",
    "print(\"Max events per document class count:\", max_doc_class_count)"
   ]
  },
  {
   "cell_type": "code",
   "execution_count": 8,
   "metadata": {},
   "outputs": [],
   "source": [
    "best_doc = get_best_document(dataset, \"events\", \"class_\")"
   ]
  },
  {
   "cell_type": "code",
   "execution_count": 9,
   "metadata": {},
   "outputs": [
    {
     "name": "stdout",
     "output_type": "stream",
     "text": [
      "Document with the most events and number of classes: lusa_119\n"
     ]
    }
   ],
   "source": [
    "print(\"Document with the most events and number of classes:\", best_doc.id)"
   ]
  },
  {
   "cell_type": "code",
   "execution_count": 10,
   "metadata": {},
   "outputs": [
    {
     "name": "stdout",
     "output_type": "stream",
     "text": [
      "Task:\n",
      "Extract all event triggers.\n",
      "\n",
      "Example:\n",
      "\tInput:\n",
      "\t\"Covi-19: Governo de estado australiano pede desculpa por erros em quarentenas em hotéis\n",
      "O líder do governo do estado australiano de Victoria pediu hoje desculpa pelos erros do programa de quarentena em dois hotéis que levaram à maioria das mortes por covid-19 no país.\n",
      "Após a divulgação do relatório de investigação, o primeiro-ministro de Victoria, Dan Andrews, explicou que o sistema de quarentena tinha sido implementado rapidamente e sem um livro de regras pandémico.\n",
      "\"Quero pedir desculpa à comunidade vitoriana pelos erros muito claros que foram cometidos neste programa\", disse Andrews.\n",
      "O fraco controlo em dois hotéis de quarentena desencadearam uma onda de infeções na segunda maior cidade da Austrália, enquanto o resto do país tinha estado em grande parte livre de vírus.\n",
      "Das 908 mortes australianas por covid-19, 820 morreram em Victoria.\n",
      "A polícia fornece agora segurança nos hotéis de quarentena de Melbourne, algo que neste dois oitos foram feito por seguranças privados.\n",
      "o estado de Victoria não tinha registada um caso de transmissão comunitária há 52 dias e o aeroporto de Melbourne começou a aceitar chegadas internacionais este mês pela primeira vez desde o início de julho.\"\n",
      "\tOutput:\n",
      "\t[\"pediu\", \"desculpa\", \"erros\", \"levaram\", \"mortes\", \"quarentena\", \"divulga\\u00e7\\u00e3o\", \"explicou\", \"implementado\", \"investiga\\u00e7\\u00e3o\", \"quarentena\", \"Quero\", \"pedir\", \"desculpa\", \"erros\", \"cometidos\", \"disse\", \"fraco controlo\", \"quarentena\", \"desencadearam\", \"infe\\u00e7\\u00f5es\", \"estado em grande parte livre\", \"morreram\", \"fornece\", \"seguran\\u00e7a\", \"quarentena\", \"feito\", \"registada\", \"caso\", \"transmiss\\u00e3o comunit\\u00e1ria\", \"come\\u00e7ou\", \"aceitar\", \"chegadas internacionais\", \"programa\", \"sistema\", \"programa\", \"que\", \"mortes australianas\", \"algo\"]\n",
      "\n",
      "Format:\n",
      "JSON-parseable list of strings.\n",
      "\n",
      "Input:\n",
      "\"$text\"\n",
      "\n",
      "Output:\n",
      "\n"
     ]
    }
   ],
   "source": [
    "annotation = [ent.text for ent in best_doc.events]\n",
    "prompter = Prompter(entity=\"event triggers\", example=best_doc)\n",
    "print(prompter.template.template)"
   ]
  },
  {
   "attachments": {},
   "cell_type": "markdown",
   "metadata": {},
   "source": [
    "### Time Expressions"
   ]
  },
  {
   "cell_type": "code",
   "execution_count": 11,
   "metadata": {},
   "outputs": [
    {
     "name": "stdout",
     "output_type": "stream",
     "text": [
      "Timex classes: {'Date', 'Time', 'Duration', 'Set'}\n"
     ]
    }
   ],
   "source": [
    "timex_classes = set(timex.time_type for doc in dataset for timex in doc.timexs if hasattr(timex, \"time_type\"))\n",
    "print(\"Timex classes:\", timex_classes)"
   ]
  },
  {
   "cell_type": "code",
   "execution_count": 12,
   "metadata": {},
   "outputs": [
    {
     "name": "stdout",
     "output_type": "stream",
     "text": [
      "Max events per document: 9\n"
     ]
    }
   ],
   "source": [
    "n_timex_per_doc = [len(doc.timexs) for doc in dataset] \n",
    "max_timex = max(n_timex_per_doc)\n",
    "\n",
    "print(\"Max events per document:\", max_timex)"
   ]
  },
  {
   "cell_type": "code",
   "execution_count": 13,
   "metadata": {},
   "outputs": [
    {
     "name": "stdout",
     "output_type": "stream",
     "text": [
      "Max events per document class count: Counter({'Time': 4, 'Date': 3, 'Duration': 2})\n"
     ]
    }
   ],
   "source": [
    "max_timex_idx = np.argmax(n_timex_per_doc)\n",
    "doc_max_timexs = dataset[max_timex_idx]\n",
    "\n",
    "max_doc_class_count = Counter([timex.time_type for timex in doc_max_timexs.timexs if hasattr(timex, \"time_type\")])\n",
    "print(\"Max events per document class count:\", max_doc_class_count)"
   ]
  },
  {
   "cell_type": "code",
   "execution_count": 14,
   "metadata": {},
   "outputs": [
    {
     "name": "stdout",
     "output_type": "stream",
     "text": [
      "Document with the most timexs and number of classes: lusa_11\n",
      "Number of timexs: 9\n",
      "Number of timex classes: 3\n"
     ]
    }
   ],
   "source": [
    "best_doc = get_best_document(dataset, \"timexs\", \"time_type\")\n",
    "print(\"Document with the most timexs and number of classes:\", best_doc.id)\n",
    "print(\"Number of timexs:\", len(best_doc.timexs))\n",
    "print(\"Number of timex classes:\", len(set([timex.time_type for timex in best_doc.timexs if hasattr(timex, \"time_type\")])))"
   ]
  },
  {
   "cell_type": "code",
   "execution_count": 15,
   "metadata": {},
   "outputs": [
    {
     "name": "stdout",
     "output_type": "stream",
     "text": [
      "Task:\n",
      "Extract all time expressions.\n",
      "\n",
      "Example:\n",
      "\tInput:\n",
      "\t\"Autoridades moçambicanas apreendem mais de uma tonelada de caranguejo\n",
      "A fiscalização marítima moçambicana apreendeu 1.100 quilos de caranguejo, no centro do país, em menos de uma semana, capturado na \"época de veda\", quando é proibido apanhar a espécie, disse hoje à Lusa fonte das autoridades.\n",
      "A última apreensão aconteceu no sábado quando as autoridades descobriram uma embarcação com 600 quilos de caranguejo.\n",
      "“Estamos a apreender caranguejo e embarcações e os responsáveis incorrem em pesadas multas, caso sejam neutralizados”, explicou o chefe da fiscalização, César Maphossa.\n",
      "No sábado, os tripulantes abandonaram o barco, fundeado nos arredores da cidade da Beira, centro de Moçambique, quando se aperceberam da chegada dos fiscais.\n",
      "A embarcação foi confiscada e os caranguejos, dissimulados em caixas, foram posteriormente devolvidos ao seu habitat natural, no mangal do rio Maria, arredores da capital provincial de Sofala.\n",
      "A apreensão ocorreu menos de uma semana após as autoridades terem descoberto outros 500 quilos de caranguejo capturado também no período de proibição, que começou em setembro e decorre até final do ano.\n",
      "As épocas de veda visam a manutenção e exploração sustentável de espécies marinhas, dando-lhes um período sem captura que permita a recuperação das respetivas populações.\"\n",
      "\tOutput:\n",
      "\t[\"em menos de uma semana\", \"s\\u00e1bado\", \"s\\u00e1bado\", \"setembro\", \"final do ano\", \"menos de uma semana\", \"30 nov 2020\", \"\\u00e9poca de veda\", \"\\u00e9pocas de veda\"]\n",
      "\n",
      "Format:\n",
      "JSON-parseable list of strings.\n",
      "\n",
      "Input:\n",
      "\"$text\"\n",
      "\n",
      "Output:\n",
      "\n"
     ]
    }
   ],
   "source": [
    "annotation = [ent.text for ent in best_doc.timexs]\n",
    "prompter = Prompter(entity=\"time expressions\", example=best_doc)\n",
    "print(prompter.template.template)"
   ]
  },
  {
   "cell_type": "markdown",
   "metadata": {},
   "source": [
    "### Participants"
   ]
  },
  {
   "cell_type": "code",
   "execution_count": 16,
   "metadata": {},
   "outputs": [
    {
     "name": "stdout",
     "output_type": "stream",
     "text": [
      "Participant classes: {'Per', 'Fac', 'Nat', 'Other', 'Obj', 'Loc', 'Org'}\n"
     ]
    }
   ],
   "source": [
    "participant_classes = set(participant.participant_type_domain for doc in dataset for participant in doc.participants if hasattr(participant, \"participant_type_domain\"))\n",
    "print(\"Participant classes:\", participant_classes)"
   ]
  },
  {
   "cell_type": "code",
   "execution_count": 17,
   "metadata": {},
   "outputs": [
    {
     "name": "stdout",
     "output_type": "stream",
     "text": [
      "Max events per document: 48\n"
     ]
    }
   ],
   "source": [
    "n_part_per_doc = [len(doc.participants) for doc in dataset] \n",
    "max_part = max(n_part_per_doc)\n",
    "\n",
    "print(\"Max events per document:\", max_part)"
   ]
  },
  {
   "cell_type": "code",
   "execution_count": 18,
   "metadata": {},
   "outputs": [
    {
     "name": "stdout",
     "output_type": "stream",
     "text": [
      "Max events per document class count: Counter({'Per': 17, 'Loc': 15, 'Org': 8, 'Nat': 6, 'Other': 2})\n"
     ]
    }
   ],
   "source": [
    "max_part_idx = np.argmax(n_part_per_doc)\n",
    "doc_max_parts = dataset[max_part_idx]\n",
    "\n",
    "max_doc_class_count = Counter([part.participant_type_domain for part in doc_max_parts.participants if hasattr(part, \"participant_type_domain\")])\n",
    "print(\"Max events per document class count:\", max_doc_class_count)"
   ]
  },
  {
   "cell_type": "code",
   "execution_count": 19,
   "metadata": {},
   "outputs": [
    {
     "name": "stdout",
     "output_type": "stream",
     "text": [
      "Document with the most participants and number of classes: lusa_156\n",
      "Number of participants: 47\n",
      "Number of participants classes: 6\n"
     ]
    }
   ],
   "source": [
    "best_doc = get_best_document(dataset, \"participants\", \"participant_type_domain\")\n",
    "print(\"Document with the most participants and number of classes:\", best_doc.id)\n",
    "print(\"Number of participants:\", len(best_doc.participants))\n",
    "print(\"Number of participants classes:\", len(set([part.participant_type_domain for part in best_doc.participants if hasattr(part, \"participant_type_domain\")])))"
   ]
  },
  {
   "cell_type": "code",
   "execution_count": 20,
   "metadata": {},
   "outputs": [
    {
     "name": "stdout",
     "output_type": "stream",
     "text": [
      "Task:\n",
      "Extract all participants.\n",
      "\n",
      "Example:\n",
      "\tInput:\n",
      "\t\"Homem armado faz vários reféns dentro de um banco na Geórgia\n",
      "Um homem armado fez hoje à tarde vários reféns, ainda em número incerto, dentro das instalações de um banco na Geórgia, informaram as autoridades desta ex-república soviética.\n",
      "O Ministério do Interior da Geórgia não precisou, até ao momento, quantas pessoas foram feitas reféns dentro do banco, localizado na cidade de Zugdidi (região oeste), ou quais são as exigências do agressor.\n",
      "A polícia isolou, entretanto, a zona onde fica a sucursal bancária e montou uma operação \"para neutralizar o agressor\", informou o ministério num comunicado.\n",
      "A televisão estatal da Geórgia, a Mtavari TV, noticiou que o sequestrador está armado com uma granada de mão e exige 500.000 dólares (cerca de 420.000 euros) em dinheiro.\n",
      "A Mtavari TV conseguiu falar com um dos reféns que indicou que o agressor mantém 19 pessoas dentro das instalações bancárias.\n",
      "O canal de televisão também divulgou um vídeo que mostra uma sala com pessoas sentadas no chão e um homem vestido com um uniforme militar, de rosto coberto, e armado com uma espingarda.\"\n",
      "\tOutput:\n",
      "\t[\"um comunicado\", \"Um homem armado\", \"v\\u00e1rios ref\\u00e9ns\", \"n\\u00famero incerto\", \"as instala\\u00e7\\u00f5es\", \"a Ge\\u00f3rgia\", \"as autoridades\", \"esta ex-rep\\u00fablica sovi\\u00e9tica\", \"O Minist\\u00e9rio do Interior\", \"a Ge\\u00f3rgia\", \"quantas pessoas\", \"ref\\u00e9ns\", \"o banco,\", \"a cidade de Zugdidi (regi\\u00e3o oeste)\", \"quais\", \"o agressor\", \"A pol\\u00edcia\", \"a zona\", \"onde\", \"a sucursal banc\\u00e1ria\", \"o agressor\", \"o minist\\u00e9rio\", \"A televis\\u00e3o estatal\", \"a Mtavari TV\", \"o sequestrador\", \"uma granada de m\\u00e3o\", \"500.000 d\\u00f3lares (cerca de 420.000 euros)\", \"dinheiro\", \"A Mtavari TV\", \"um\", \"os ref\\u00e9ns\", \"o agressor\", \"19 pessoas\", \"as instala\\u00e7\\u00f5es banc\\u00e1rias\", \"O canal de televis\\u00e3o\", \"um v\\u00eddeo\", \"uma sala\", \"pessoas\", \"o ch\\u00e3o\", \"um homem\", \"um uniforme militar\", \"rosto\", \"uma espingarda\", \"um banco\", \"que\", \"a Ge\\u00f3rgia\", \"que\"]\n",
      "\n",
      "Format:\n",
      "JSON-parseable list of strings.\n",
      "\n",
      "Input:\n",
      "\"$text\"\n",
      "\n",
      "Output:\n",
      "\n"
     ]
    }
   ],
   "source": [
    "annotation = [ent.text for ent in best_doc.participants]\n",
    "prompter = Prompter(entity=\"participants\", example=best_doc)\n",
    "print(prompter.template.template)"
   ]
  },
  {
   "cell_type": "code",
   "execution_count": null,
   "metadata": {},
   "outputs": [],
   "source": []
  },
  {
   "cell_type": "code",
   "execution_count": null,
   "metadata": {},
   "outputs": [],
   "source": []
  },
  {
   "cell_type": "markdown",
   "metadata": {},
   "source": [
    "## English"
   ]
  },
  {
   "cell_type": "code",
   "execution_count": 14,
   "metadata": {},
   "outputs": [
    {
     "name": "stderr",
     "output_type": "stream",
     "text": [
      "100%|██████████| 183/183 [00:00<00:00, 338.08it/s]\n"
     ]
    }
   ],
   "source": [
    "DATA_PATH = ROOT / \"resources\" / \"timebank\"\n",
    "dataset = read_timebank(DATA_PATH)"
   ]
  },
  {
   "cell_type": "code",
   "execution_count": 15,
   "metadata": {},
   "outputs": [],
   "source": [
    "SAMPLE_DOCS_IDS = [\n",
    "    \"wsj_0551\",\n",
    "    \"wsj_0815\",\n",
    "    \"wsj_0135\",\n",
    "    \"wsj_1042\",\n",
    "    \"wsj_0266\",\n",
    "    \"wsj_0924\",\n",
    "    \"PRI19980306.2000.1675\",\n",
    "    \"wsj_0332\",\n",
    "    \"wsj_0176\",\n",
    "    \"wsj_0348\",\n",
    "    \"wsj_0144\",\n",
    "    \"wsj_0670\",\n",
    "    \"ABC19980114.1830.0611\",\n",
    "    \"wsj_0674\",\n",
    "    \"wsj_0376\",\n",
    "    \"VOA19980305.1800.2603\",\n",
    "    \"APW19980301.0720\",\n",
    "    \"wsj_0938\",\n",
    "    \"wsj_0745\",\n",
    "    \"wsj_0584\",\n",
    "]\n",
    "\n",
    "# remove documents used in the selection of the prompts\n",
    "dataset = [doc for doc in dataset if doc.id not in SAMPLE_DOCS_IDS]"
   ]
  },
  {
   "cell_type": "code",
   "execution_count": 18,
   "metadata": {},
   "outputs": [],
   "source": [
    "def get_best_document(documents, entities, attribute):\n",
    "    best_doc = None\n",
    "    max_n_entities, max_n_classes = None, None\n",
    "    for doc in documents:\n",
    "        \n",
    "        doc_classes = set([\n",
    "            getattr(entity, attribute)\n",
    "            for entity in getattr(doc, entities)\n",
    "            if hasattr(entity, str(attribute))\n",
    "        ])\n",
    "        \n",
    "        n_doc_classes = len(doc_classes)\n",
    "        n_entities = len(getattr(doc, entities))\n",
    "\n",
    "        if best_doc is None:\n",
    "            best_doc = doc\n",
    "            max_n_entities = n_entities\n",
    "            max_n_classes = n_doc_classes\n",
    "            continue\n",
    "        \n",
    "        if n_doc_classes >= max_n_classes and n_entities >= max_n_entities:\n",
    "            max_n_entities = n_entities\n",
    "            max_n_classes = n_doc_classes\n",
    "            best_doc = doc\n",
    "    return best_doc"
   ]
  },
  {
   "cell_type": "markdown",
   "metadata": {},
   "source": [
    "### Events"
   ]
  },
  {
   "cell_type": "code",
   "execution_count": 19,
   "metadata": {},
   "outputs": [
    {
     "name": "stdout",
     "output_type": "stream",
     "text": [
      "Event classes: {'PERCEPTION', 'OCCURRENCE', 'REPORTING', 'I_STATE', 'I_ACTION', 'STATE', 'ASPECTUAL'}\n"
     ]
    }
   ],
   "source": [
    "event_classes = set(event.class_ for doc in dataset for event in doc.events if hasattr(event, \"class_\"))\n",
    "print(\"Event classes:\", event_classes)"
   ]
  },
  {
   "cell_type": "code",
   "execution_count": 20,
   "metadata": {},
   "outputs": [
    {
     "name": "stdout",
     "output_type": "stream",
     "text": [
      "Max events per document: 269\n"
     ]
    }
   ],
   "source": [
    "n_event_per_doc = [len(doc.events) for doc in dataset] \n",
    "max_events = max(n_event_per_doc)\n",
    "\n",
    "print(\"Max events per document:\", max_events)"
   ]
  },
  {
   "cell_type": "code",
   "execution_count": 22,
   "metadata": {},
   "outputs": [
    {
     "name": "stdout",
     "output_type": "stream",
     "text": [
      "Max events per document class count: Counter({'OCCURRENCE': 189, 'REPORTING': 26, 'STATE': 17, 'I_STATE': 15, 'PERCEPTION': 8, 'ASPECTUAL': 7, 'I_ACTION': 7})\n"
     ]
    }
   ],
   "source": [
    "max_events_idx = np.argmax(n_event_per_doc)\n",
    "doc_max_events = dataset[max_events_idx]\n",
    "\n",
    "max_doc_class_count = Counter([event.class_ for event in doc_max_events.events if hasattr(event, \"class_\")])\n",
    "print(\"Max events per document class count:\", max_doc_class_count)"
   ]
  },
  {
   "cell_type": "code",
   "execution_count": 23,
   "metadata": {},
   "outputs": [],
   "source": [
    "best_doc = get_best_document(dataset, \"events\", \"class_\")"
   ]
  },
  {
   "cell_type": "code",
   "execution_count": 24,
   "metadata": {},
   "outputs": [
    {
     "name": "stdout",
     "output_type": "stream",
     "text": [
      "Document with the most events and number of classes: WSJ910225-0066\n"
     ]
    }
   ],
   "source": [
    "print(\"Document with the most events and number of classes:\", best_doc.id)"
   ]
  },
  {
   "cell_type": "code",
   "execution_count": 25,
   "metadata": {},
   "outputs": [
    {
     "name": "stdout",
     "output_type": "stream",
     "text": [
      "Task:\n",
      "Extract all event triggers.\n",
      "\n",
      "Example:\n",
      "\tInput:\n",
      "\t\"\"So far, the offensive is progressing with dramatic success,\" said a buoyant Gen. Norman Schwarzkopf, commander of U.S. forces. Similarly, while cautioning about the uncertainty of early battle reports, White House spokesman Marlin Fitzwater said late yesterday that \"the operation has been very successful.\" Amid reports that thousands of Iraqi soldiers had surrendered, administration aides were also upbeat in private, with one even talking of victory within a week. But even continued military success carries political and diplomatic risks for President Bush and the U.S. The allied rejection of the last-minute Soviet-led diplomatic effort to avoid the ground war enabled Mr. Bush to seize the initiative from an Iraq seemingly bent on dictating peace terms. But it has offended some, especially in Arab countries, who now believe that Mr. Bush's real objectives are the demise of Saddam Hussein and the destruction of the Iraqi military, not just the liberation of Kuwait. \"Why have a war?\" asked Abdul Latif Shekar, a customs officer in Egypt, a country participating in the attack on Iraqi troops. \"I think the Gorbachev plan was a good one. Iraq was ready to withdraw.\" Now, he says, \"it looks like the West just wants to destroy Iraq.\" Despite the early indications of success, the allied forces could still suffer greater casualties and become bogged down militarily, especially when they encounter the tough Republican Guard, which is entrenched along the Iraq-Kuwait border. If so, and if it appears that the American goal actually is to destroy the Iraqi regime even at the cost of badly hurting Iraqi society, \"the lingering cost of that could be high,\" worries former national security adviser Zbigniew Brzezinski. But, he notes, \"If everything crumbles totally, that won't be such a problem.\" American officials staunchly disavow any interest in driving through Iraq toward Baghdad, either in pursuit of Saddam Hussein himself or to set up some American-controlled government inside Iraq. The Americans say their battle plans call for operating against forces inside Iraq as far north as the city of Basra, about 30 miles north of Kuwait, but say there isn't any plan to drive beyond that. Indeed, French President Francois Mitterrand said yesterday that some allied forces are crossing Iraqi territory as part of a \"pincer\" movement to trap the soldiers occupying Kuwait, but insisted, \"The purpose isn't to invade Iraqi territory, that's not the aim, that isn't the mandate.\" Nevertheless, American officials over the weekend became more open in declaring that by destroying Saddam Hussein's military machine they hope to destroy his regime -- a goal likely to be supported by most Americans. In a pre-attack message, Lt. Gen. Walter Boomer, the top Marine in the Persian Gulf, told U.S. Marines that their goal is to \" restore {Kuwait} to its citizens.\" He went on to add that \"in so doing you not only return a nation to its people, but you will destroy the war machine of a ruthless dictator.\" Secretary of State James Baker said on ABC-TV's \"This Week With David Brinkley\" that the series of United Nations resolutions condemning Iraq's invasion of Kuwait \"imply that the restoration of peace and stability in the Gulf would be a heck of a lot easier if he and that leadership were not in power in Iraq.\" Of course, it is still far too early to assume that the military situation on the ground will stay as smooth for allied forces as it appears to have been so far. Iraq still has the potential to cause significant problems by using forces and weapons that don't yet seem fully engaged. For one thing, Iraq still apparently hasn't unleashed its stockpile of chemical weapons. Gen. Schwarzkopf said that some early reports that chemical weapons were used against allied troops turned out to be \"bogus.\" Iraq is believed to have the ability to deliver chemical weapons in artillery shells or, perhaps, atop Soviet-made Frog7 missiles. Perhaps more important, it appears that allied troops haven't yet fully engaged Iraq's vaunted Republican Guard, which has been sitting just north of the Iraq-Kuwait border and is considered the most potent element in the Iraqi defense. It remains to be seen how much damage the allied air campaign was able to inflict on the Guard, and whether President Hussein will commit his most valued troops to a fight-to-the-death finish. Certainly Saddam Hussein continues to implore his country to fight on. \"Fight them,\" he urged Iraqis in a radio address. \"All Iraqis, fight them with all the power you have, and all struggle for everything.\" American war planners have long assumed that the early stage of the ground attack, in which American forces would use their speed to sweep around Iraqi defenses and their strength to punch through the relatively weak Iraqi front line, would be the easiest part. Despite these early successes, the mere fact that a ground campaign has begun almost guarantees that the Bush administration will face fresh problems growing out of the military situation. There are likely to be additional American prisoners of war taken, and there are signs that President Hussein is taking Kuwaiti hostages. U.S. and Kuwaiti officials say there are reports that large numbers of civilians from Kuwait City are being rounded up and held by Iraqi troops, apparently either for use as human shields or for use later in bargaining once the war is over. President Bush's political argument for going to a ground war has been strengthened by the growing stream of reports of wanton Iraqi destruction inside Kuwait. U.S. officials say that hundreds of Kuwaiti oil wells now may have been set afire. And Robert Gates, Mr. Bush's deputy national security adviser, asserted in an interview on the Cable News Network that Iraqi troops have set fire to \"large sections\" of Kuwait City. Mr. Bush and his aides were leaning toward a military conclusion of the crisis even before the latest reports of Iraqi atrocities in Kuwait came to light. The president and his top aides tentatively decided on Feb. 11 that a ground war would be necessary. The decision was made after Defense Secretary Dick Cheney and Gen. Colin Powell, chairman of the Joint Chiefs of Staff, returned from a visit with military commanders in Saudi Arabia, administration officials say. Then, a week or so ago, Gen. Schwarzkopf secretly picked Saturday night as the optimal time to start the offensive. The date was unaffected by the last-ditch Soviet peace initiative. The real problem with the Soviet proposals, U.S. officials now say, was that they all would have required lifting economic sanctions against Iraq. The Bush administration considers the sanctions essential to keeping Saddam Hussein under control should he survive the war. Mr. Bush forestalled further diplomatic maneuvering by issuing an ultimatum on behalf of the allies demanding that Iraq withdraw within a week, starting at noon Saturday. Administration aides said that the idea of the ultimatum was Gen. Powell's. He argued setting an explicit deadline for Saddam Hussein to break would, when it was broken, give the U.S. military a clear green light to proceed. In setting out his final challenge to Saddam Hussein, Mr. Bush continued the intensive personal diplomacy he began after the invasion last August. After cabling world leaders about his intention to give Saddam Hussein a final deadline to exit Kuwait, he offered him a week to withdraw fully, instead of the four days he originally considered, because of objections from some European partners that four days seemed punitive and unrealistic. And when he and President Gorbachev spoke about the decision in a talk lasting nearly an hour, the President took pains to listen to what his counterpart had to say, although he already had decided that the Soviet alternative to the allied deadline was unacceptable. Finally, when Iraq failed to respond to the U.S. ultimatum, Mr. Bush let the ground offensive begin as previously planned Saturday night. The attack was lightning quick, as allied forces punched through tall sand berms on the border and pushed forward into Iraq and Kuwait. U.S. Marines were said to have breached troublesome mine fields along the Iraqi lines but Pentagon officials said no amphibious assault on Kuwait's beaches had begun. Long columns of Iraqi prisoners of war could be seen trudging through the desert toward the allied rear. U.S. commanders said 5,500 Iraqi prisoners were taken in the first hours of the ground war, though some military officials later said the total may have climbed above 8,000. The U.S. hopes its troops will drive Iraqi forces out of Kuwait quickly, leaving much of Iraq's offensive military equipment destroyed or abandoned in Kuwait. It expects that tens of thousands of Iraqi soldiers will surrender to the U.S. and its allies over the next few days. If the allies succeed, Saddam Hussein will have plunged his country first into a fruitless eight-year war against Iran and then into a humiliating war against the U.S. and the allies to defend his conquest of Kuwait, leaving much of his country's military establishment and modern infrastructure in ruins. Meanwhile, the U.S. hopes, economic sanctions and an international arms embargo will remain in effect until Iraq pays war reparations to Kuwait to cover war damages. That would undermine any chances of rebuilding either Iraq or its armed forces in short order as long as Saddam Hussein remains in power. The American hope is that someone from within Iraq, perhaps from the army's professional ranks, will step forward and push Saddam Hussein aside so that the country can begin recovering from the disaster. Outside analysts think Saddam Hussein's position is indeed precarious. \"I think frankly Saddam is finished, no matter what happens,\" says Christine Helms, a Middle East scholar who has written extensively about Iraq. \"These guys simply don't retire to condos over the Euphrates.\" Despite the lack of any obvious successors, the Iraqi leader's internal power base appeared to be narrowing even before the war began. Some analysts say he appeared to be relying on a smaller and smaller circle of close advisers and relatives. If that's true, the narrowing of his support would make it easier for someone to push him aside from within. Yet, paradoxically, the perception that the U.S. wants to destroy Iraq may increase Saddam Hussein's support within the Iraqi military. And the U.S. now will face sharper questions in the Arab world since it didn't back the peace proposals worked out in Moscow. \"We looked to the United States, we expected you to have the moral edge,\" says Nasser Tahboub, a Jerusalem-born Jordanian who has an American wife and a doctorate in political science from Duke University. \"Now we see that edge eroded. For me, it is a great tragedy. For the first time in history, the U.S. has gone to war with an Arab and Muslim nation, and we know a peaceful solution was in reach.\" --- Geraldine Brooks in Amman, Jordan, and Craig Forman in Cairo, Egypt, contributed to this article.\"\n",
      "\tOutput:\n",
      "\t[\"start\", \"begun\", \"survive\", \"withdraw\", \"demanding\", \"said\", \"operation\", \"went\", \"talking\", \"invasion\", \"conquest\", \"destroy\", \"begin\", \"said\", \"asserted\", \"war\", \"wants\", \"came\", \"withdraw\", \"demise\", \"let\", \"says\", \"began\", \"decision\", \"sanctions\", \"increase\", \"decision\", \"said\", \"punch\", \"seize\", \"seemed\", \"says\", \"implore\", \"lifting\", \"exit\", \"face\", \"suffer\", \"engaged\", \"campaign\", \"said\", \"pushed\", \"seen\", \"appeared\", \"trudging\", \"offended\", \"turned\", \"respond\", \"said\", \"hope\", \"interview\", \"growing\", \"dictating\", \"maneuvering\", \"drive\", \"situation\", \"eroded\", \"participating\", \"open\", \"driving\", \"assault\", \"retire\", \"tragedy\", \"argued\", \"appears\", \"used\", \"gone\", \"Fight\", \"remains\", \"war\", \"said\", \"listen\", \"wants\", \"said\", \"considered\", \"campaign\", \"think\", \"guarantees\", \"took\", \"destroy\", \"continued\", \"crossing\", \"commit\", \"diplomacy\", \"give\", \"surrendered\", \"rebuilding\", \"say\", \"attack\", \"taking\", \"enabled\", \"address\", \"objections\", \"says\", \"pursuit\", \"drive\", \"expects\", \"use\", \"effort\", \"carries\", \"declaring\", \"disavow\", \"invade\", \"notes\", \"using\", \"say\", \"rejection\", \"back\", \"told\", \"offensive\", \"expected\", \"initiative\", \"strengthened\", \"succeed\", \"face\", \"decided\", \"sanctions\", \"push\", \"worries\", \"add\", \"set\", \"taken\", \"broken\", \"asked\", \"became\", \"remains\", \"plunged\", \"assumed\", \"engaged\", \"have\", \"restoration\", \"imply\", \"said\", \"appears\", \"use\", \"bargaining\", \"rounded\", \"proceed\", \"war\", \"say\", \"liberation\", \"assume\", \"set\", \"war\", \"has\", \"returned\", \"narrowing\", \"spoke\", \"war\", \"destroy\", \"fight\", \"have\", \"return\", \"decided\", \"leaning\", \"struggle\", \"believed\", \"say\", \"doing\", \"invasion\", \"cabling\", \"unacceptable\", \"atrocities\", \"destroy\", \"issuing\", \"continues\", \"leaving\", \"become\", \"breached\", \"say\", \"seem\", \"attack\", \"war\", \"damage\", \"believe\", \"crumbles\", \"see\", \"crisis\", \"have\", \"looked\", \"finished\", \"appeared\", \"destroying\", \"visit\", \"war\", \"offensive\", \"trap\", \"sweep\", \"keeping\", \"break\", \"written\", \"happens\", \"said\", \"call\", \"restore\", \"deliver\", \"destruction\", \"war\", \"hopes\", \"hopes\", \"embargo\", \"talk\", \"remain\", \"undermine\", \"conclusion\", \"punched\", \"insisted\", \"held\", \"unleashed\", \"starting\", \"required\", \"failed\", \"entrenched\", \"made\", \"necessary\", \"war\", \"withdraw\", \"considers\", \"urged\", \"stay\", \"war\", \"planned\", \"say\", \"bogged\", \"setting\", \"leaving\", \"give\", \"setting\", \"looks\", \"cover\", \"use\", \"picked\", \"offered\", \"pays\", \"make\", \"destroy\", \"supported\", \"know\", \"going\", \"war\", \"operating\", \"abandoned\", \"begun\", \"climbed\", \"forestalled\", \"cause\", \"sitting\", \"unaffected\", \"has\", \"began\", \"say\", \"encounter\", \"appears\", \"inflict\", \"destruction\", \"sanctions\", \"surrender\", \"destroyed\", \"relying\", \"attack\", \"condemning\", \"situation\", \"considered\", \"said\", \"seen\", \"defend\", \"offensive\", \"fight\", \"avoid\", \"set\"]\n",
      "\n",
      "Format:\n",
      "JSON-parseable list of strings.\n",
      "\n",
      "Input:\n",
      "\"$text\"\n",
      "\n",
      "Output:\n",
      "\n"
     ]
    }
   ],
   "source": [
    "annotation = [ent.text for ent in best_doc.events]\n",
    "prompter = Prompter(entity=\"event triggers\", example=best_doc)\n",
    "print(prompter.template.template)"
   ]
  },
  {
   "cell_type": "markdown",
   "metadata": {},
   "source": [
    "### Time Expressions"
   ]
  },
  {
   "cell_type": "code",
   "execution_count": 26,
   "metadata": {},
   "outputs": [
    {
     "name": "stdout",
     "output_type": "stream",
     "text": [
      "Timex classes: {'SET', 'DATE', 'TIME', 'DURATION'}\n"
     ]
    }
   ],
   "source": [
    "timex_classes = set(timex.time_type for doc in dataset for timex in doc.timexs if hasattr(timex, \"time_type\"))\n",
    "print(\"Timex classes:\", timex_classes)"
   ]
  },
  {
   "cell_type": "code",
   "execution_count": 27,
   "metadata": {},
   "outputs": [
    {
     "name": "stdout",
     "output_type": "stream",
     "text": [
      "Max events per document: 34\n"
     ]
    }
   ],
   "source": [
    "n_timex_per_doc = [len(doc.timexs) for doc in dataset] \n",
    "max_timex = max(n_timex_per_doc)\n",
    "\n",
    "print(\"Max events per document:\", max_timex)"
   ]
  },
  {
   "cell_type": "code",
   "execution_count": 28,
   "metadata": {},
   "outputs": [
    {
     "name": "stdout",
     "output_type": "stream",
     "text": [
      "Max events per document class count: Counter({'DATE': 29, 'DURATION': 4, 'TIME': 1})\n"
     ]
    }
   ],
   "source": [
    "max_timex_idx = np.argmax(n_timex_per_doc)\n",
    "doc_max_timexs = dataset[max_timex_idx]\n",
    "\n",
    "max_doc_class_count = Counter([timex.time_type for timex in doc_max_timexs.timexs if hasattr(timex, \"time_type\")])\n",
    "print(\"Max events per document class count:\", max_doc_class_count)"
   ]
  },
  {
   "cell_type": "code",
   "execution_count": 29,
   "metadata": {},
   "outputs": [
    {
     "name": "stdout",
     "output_type": "stream",
     "text": [
      "Document with the most timexs and number of classes: AP900815-0044\n",
      "Number of timexs: 34\n",
      "Number of timex classes: 3\n"
     ]
    }
   ],
   "source": [
    "best_doc = get_best_document(dataset, \"timexs\", \"time_type\")\n",
    "print(\"Document with the most timexs and number of classes:\", best_doc.id)\n",
    "print(\"Number of timexs:\", len(best_doc.timexs))\n",
    "print(\"Number of timex classes:\", len(set([timex.time_type for timex in best_doc.timexs if hasattr(timex, \"time_type\")])))"
   ]
  },
  {
   "cell_type": "code",
   "execution_count": 30,
   "metadata": {},
   "outputs": [
    {
     "name": "stdout",
     "output_type": "stream",
     "text": [
      "Task:\n",
      "Extract all time expressions.\n",
      "\n",
      "Example:\n",
      "\tInput:\n",
      "\t\"Iraq's Saddam Hussein, facing U.S. and Arab troops at the Saudi border, today sought peace on another front by promising to withdraw from Iranian territory and release soldiers captured during the Iran-Iraq war. Also today, King Hussein of Jordan arrived in Washington seeking to mediate the Persian Gulf crisis. President Bush on Tuesday said the United States may extend its naval quarantine to Jordan's Red Sea port of Aqaba to shut off Iraq's last unhindered trade route. In another mediation effort, the Soviet Union said today it had sent an envoy to the Middle East on a series of stops to include Baghdad. Soviet officials also said Soviet women, children and invalids would be allowed to leave Iraq. President Bush today denounced Saddam's ``ruinous policies of war,'' and said the United States is ``striking a blow for the principle that might does not make right.'' In a speech delivered at the Pentagon, Bush seemed to suggest that American forces could be in the gulf region for some time. ``No one should doubt our staying power or determination,'' he said.\n",
      "The U.S. military buildup in Saudi Arabia continued at fever pace, with Syrian troops now part of a multinational force camped out in the desert to guard the Saudi kingdom from any new thrust by Iraq. In a letter to President Hashemi Rafsanjani of Iran, read by a broadcaster over Baghdad radio, Saddam said he will begin withdrawing troops from Iranian territory on Friday and release Iranian prisoners of war. Iran said an Iraqi diplomatic delegation was en route to Tehran to deliver Saddam's message, which it said it would review ``with optimism.'' Saddam appeared to accept a border demarcation treaty he had rejected in peace talks following the August 1988 cease-fire of the eight-year war with Iran. The move seemed aimed at heading off more trouble with Iran, which had condemned Iraq's invasion of Kuwait on Aug. 2 but also criticized the multinational force dispatched to Saudi Arabia. Saddam said he sought to ``turn the gulf into a lake of peace free of foreign fleets and forces that harbor ill intentions against us.'' In other developments: The Pentagon said that Defense Secretary Dick Cheney is considering urging Bush to order a national callup of armed forces reserves for active duty because of the drain on units sending soldiers abroad. Bush can call up to 200,000 reservists for up to 180 days without seeking congressional approval. Soviet Foreign Ministry spokesman Yuri Gremitskikh said special ambassador Mikhail Sytenko left Tuesday for consultations with the governments of Syria, Jordan, Egypt and other Arab countries.\n",
      "Sytenko, a former deputy secretary-general of the United Nations, is also expected to visit Baghdad, Gremitskikh said at a regular news briefing today. The outlook darkened for about 3,000 Americans caught in Iraq and Kuwait when Saddam sent his forces into the small, oil-rich sultanate. The Iraqi ambassador to Greece said in Athens the Americans and other stranded foreigners could leave ``as soon as the threats from the United States and its allies are eliminated.'' ABC quoted an Iraqi Foreign Ministry official in Baghdad as saying Americans in Iraq are ``restrictees'' who will stay there until the crisis ends. The Soviet Foreign Ministry said Soviet women, children and invalids would be permitted to leave Iraq. Spokesman Yuri Gremitskikh said the first group of 230 evacuees was assembling in Baghdad today, but evacuation plans were hampered by desert heat and lack of transportation. Nearly 9,000 Soviets were among the hundreds of thousands of foreigners trapped in Iraq and Kuwait. Iraq has agreed to allow all 880 Soviets in Kuwait to leave, but only by a 1,200-mile road route through Iraq and to the Iraq-Jordan border. The British Foreign Office said today conditions in Kuwait appear to be deteriorating. There have been reports of wholesale looting but food and gasoline were still available, said a spokesman, who by custom was not identified. Banks remained closed. The Iraqi ambassador to Venezuela said on Tuesday that Iraq would retaliate against Venezuela and other OPEC oil cartel members if they boost oil production to fill the gap created by blocked supplies from Iraq and Kuwait. With Kuwait now ``annexed,'' Iraq has control of 20 percent of the world's oil reserves. A steep rise in world oil prices followed the Kuwait invasion. The U.N. Security Council on Aug. 6 ordered a global embargo on trade with Iraq as punishment for seizing Kuwait. Bush then sent U.S. troops and planes to Saudi Arabia, saying Iraqi troops massed nearby in Kuwait threatened Saudi Arabia and its vast oil reserves. Twelve Arab League nations voted for an Arab force to protect Saudi Arabia, with the vanguard of Syria's contingent arriving Tuesday, according to diplomatic sources in Riyadh, the Saudi capital. Egyptian and Moroccan troops are already there. The predominantly Moslem nation of Bangladesh said today its troops would join multinational forces in Saudi Arabia. The size of the contingent was not disclosed. Turkey and Saudi Arabia in effect shut down Iraq's major oil outlets through those countries, but according to Jordanian officials, a smaller line into Jordan remained operating. Truckloads of goods rolled into Iraq from Jordan on Tuesday and Iraqi-bound cargo was unloaded from ships at the Red Sea port ofAqaba despite the U.N.-ordered sanctions. King Hussein was reportedly carrying a message to Bush from Iraq's Saddam, with whom the king met Monday. The monarch will meet Bush on Thursday in Kennebunkport, Maine. Crown Prince Hassan, King Hussein's brother and political adviser, was asked today about the message the king was said to be carrying. In an interview from Jordan on ABC, he declined to discuss details, but said: ``I don't think that his majesty would be traveling at this crucial moment if the Iraqi leadership did not have a rational approach to the future.''\n",
      "A CBS News report citing unidentified Jordanian sources said that Saddam's message called for an international conference to be convened to discuss an Iraqi withdrawal from Kuwait. In exchange, the buildup of U.S. forces in the region would halt. Bush, however, says he sees no short-term hope for a diplomatic solution to the gulf crisis _ at least until economic sanctions force Saddam to withdraw his army. Bush held out the prospect of more aid to Jordan if it cooperates with the trade embargo. On Tuesday, the United States and Soviet Union conferred in Washington on putting an anti-Iraq naval blockade under a United Nations umbrella. The United States has provided most of the naval vessels so far to block Iraqi trade, with Britain, West Germany and Australia among the other nations lending support at sea. The embargo is meant to cripple Iraq by cutting off its exports of oil and imports of food and military supplies.\n",
      "Iraq imports about three-quarters of its foodstuffs. U.S. allies and other U.N. members have objected that the Security Council embargo resolution did not specifically authorize such a naval operation. Bush told a news conference on Tuesday that the naval barricade now in force might be extended to Jordan's Aqaba ``if it is a hole through which commerce flows'' in and out of Iraq. In Saudi Arabia, today is the eighth day of ``Desert Shield,'' the operation designed to confront an estimated 200,000 Iraqi soldiers now in Kuwait. Iraq boasts an army of 1 million members. At least 50,000 U.S. troops are expected to be committed to Desert Shield within weeks, including Marines, Army air assault forces, paratroopers and infantry. Iraq said it invaded Kuwait because of disputes over oil and money. It accused Kuwait of deliberately slashing Iraqi oil revenues by overproducing oil and driving down prices, among other charges. Iraq has 17 million residents, and Kuwait about 1.9 million.\"\n",
      "\tOutput:\n",
      "\t[\"Aug. 2\", \"now\", \"today\", \"Tuesday\", \"today\", \"eight-year\", \"08-15-90 1337EDT\", \"today\", \"Tuesday\", \"Tuesday\", \"Aug. 6\", \"today\", \"Friday\", \"today\", \"today\", \"now\", \"today\", \"Tuesday\", \"today\", \"now\", \"up to 180 days\", \"Monday\", \"Tuesday\", \"today\", \"now\", \"weeks\", \"some time\", \"today\", \"eighth day\", \"Tuesday\", \"August 1988\", \"Thursday\", \"Tuesday\", \"this crucial moment\"]\n",
      "\n",
      "Format:\n",
      "JSON-parseable list of strings.\n",
      "\n",
      "Input:\n",
      "\"$text\"\n",
      "\n",
      "Output:\n",
      "\n"
     ]
    }
   ],
   "source": [
    "annotation = [ent.text for ent in best_doc.timexs]\n",
    "prompter = Prompter(entity=\"time expressions\", example=best_doc)\n",
    "print(prompter.template.template)"
   ]
  }
 ],
 "metadata": {
  "kernelspec": {
   "display_name": "venv",
   "language": "python",
   "name": "python3"
  },
  "language_info": {
   "codemirror_mode": {
    "name": "ipython",
    "version": 3
   },
   "file_extension": ".py",
   "mimetype": "text/x-python",
   "name": "python",
   "nbconvert_exporter": "python",
   "pygments_lexer": "ipython3",
   "version": "3.9.2"
  },
  "orig_nbformat": 4
 },
 "nbformat": 4,
 "nbformat_minor": 2
}
