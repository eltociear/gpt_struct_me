{
 "cells": [
  {
   "attachments": {},
   "cell_type": "markdown",
   "metadata": {},
   "source": [
    "# Few-Shot Demonstration Selection\n",
    "\n",
    "Select the best example to use as a demonstatration in the few-prompt tests.\n",
    "\n",
    "The goal is to find the document that not only contains a good quantity of the entity to be extracted but also a good divercity in the types of entties to be extracted. "
   ]
  },
  {
   "cell_type": "code",
   "execution_count": 17,
   "metadata": {},
   "outputs": [],
   "source": [
    "from collections import Counter\n",
    "from pathlib import Path\n",
    "\n",
    "import numpy as np\n",
    "\n",
    "from src.reader import read_lusa, read_timebank\n",
    "from src.prompts import Prompter\n",
    "\n",
    "ROOT = Path().resolve().parent"
   ]
  },
  {
   "cell_type": "markdown",
   "metadata": {},
   "source": [
    "## Portuguese"
   ]
  },
  {
   "cell_type": "code",
   "execution_count": 18,
   "metadata": {},
   "outputs": [],
   "source": [
    "DATA_PATH = ROOT / \"resources\" / \"lusa_news\"\n",
    "dataset = read_lusa(DATA_PATH)"
   ]
  },
  {
   "cell_type": "code",
   "execution_count": 3,
   "metadata": {},
   "outputs": [],
   "source": [
    "SAMPLE_DOCS_IDS = [\n",
    "    \"lusa_189\",\n",
    "    \"lusa_100\",\n",
    "    \"lusa_197\",\n",
    "    \"lusa_161\",\n",
    "    \"lusa_116\",\n",
    "    \"lusa_176\",\n",
    "    \"lusa_195\",\n",
    "    \"lusa_173\",\n",
    "    \"lusa_172\",\n",
    "    \"lusa_13\",\n",
    "    \"lusa_142\",\n",
    "    \"lusa_126\",\n",
    "    \"lusa_188\",\n",
    "    \"lusa_107\",\n",
    "    \"lusa_203\",\n",
    "    \"lusa_191\",\n",
    "    \"lusa_170\",\n",
    "    \"lusa_133\",\n",
    "    \"lusa_179\",\n",
    "    \"lusa_155\",\n",
    "]\n",
    "\n",
    "# remove documents used in the selection of the prompts\n",
    "dataset = [doc for doc in dataset if doc.id not in SAMPLE_DOCS_IDS]"
   ]
  },
  {
   "cell_type": "code",
   "execution_count": 4,
   "metadata": {},
   "outputs": [],
   "source": [
    "def get_best_document(documents, entities, attribute):\n",
    "    best_doc = None\n",
    "    max_n_entities, max_n_classes = None, None\n",
    "    for doc in documents:\n",
    "        \n",
    "        doc_classes = set([\n",
    "            getattr(entity, attribute)\n",
    "            for entity in getattr(doc, entities)\n",
    "            if hasattr(entity, str(attribute))\n",
    "        ])\n",
    "        \n",
    "        n_doc_classes = len(doc_classes)\n",
    "        n_entities = len(getattr(doc, entities))\n",
    "\n",
    "        if best_doc is None:\n",
    "            best_doc = doc\n",
    "            max_n_entities = n_entities\n",
    "            max_n_classes = n_doc_classes\n",
    "            continue\n",
    "        \n",
    "        if n_doc_classes >= max_n_classes and n_entities >= max_n_entities:\n",
    "            max_n_entities = n_entities\n",
    "            max_n_classes = n_doc_classes\n",
    "            best_doc = doc\n",
    "    return best_doc"
   ]
  },
  {
   "attachments": {},
   "cell_type": "markdown",
   "metadata": {},
   "source": [
    "### Events"
   ]
  },
  {
   "cell_type": "code",
   "execution_count": 5,
   "metadata": {},
   "outputs": [
    {
     "name": "stdout",
     "output_type": "stream",
     "text": [
      "Event classes: {'State', 'I_Action', 'Reporting', 'Perception', 'I_State', 'Aspectual', 'Occurrence'}\n"
     ]
    }
   ],
   "source": [
    "event_classes = set(event.class_ for doc in dataset for event in doc.events if hasattr(event, \"class_\"))\n",
    "print(\"Event classes:\", event_classes)"
   ]
  },
  {
   "cell_type": "code",
   "execution_count": 6,
   "metadata": {},
   "outputs": [
    {
     "name": "stdout",
     "output_type": "stream",
     "text": [
      "Max events per document: 46\n"
     ]
    }
   ],
   "source": [
    "n_event_per_doc = [len(doc.events) for doc in dataset] \n",
    "max_events = max(n_event_per_doc)\n",
    "\n",
    "print(\"Max events per document:\", max_events)"
   ]
  },
  {
   "cell_type": "code",
   "execution_count": 7,
   "metadata": {},
   "outputs": [
    {
     "name": "stdout",
     "output_type": "stream",
     "text": [
      "Max events per document class count: Counter({'Occurrence': 20, 'State': 18, 'Reporting': 6, 'I_Action': 1, 'I_State': 1})\n"
     ]
    }
   ],
   "source": [
    "max_events_idx = np.argmax(n_event_per_doc)\n",
    "doc_max_events = dataset[max_events_idx]\n",
    "\n",
    "max_doc_class_count = Counter([event.class_ for event in doc_max_events.events if hasattr(event, \"class_\")])\n",
    "print(\"Max events per document class count:\", max_doc_class_count)"
   ]
  },
  {
   "cell_type": "code",
   "execution_count": 8,
   "metadata": {},
   "outputs": [],
   "source": [
    "best_doc = get_best_document(dataset, \"events\", \"class_\")"
   ]
  },
  {
   "cell_type": "code",
   "execution_count": 9,
   "metadata": {},
   "outputs": [
    {
     "name": "stdout",
     "output_type": "stream",
     "text": [
      "Document with the most events and number of classes: lusa_119\n"
     ]
    }
   ],
   "source": [
    "print(\"Document with the most events and number of classes:\", best_doc.id)"
   ]
  },
  {
   "cell_type": "code",
   "execution_count": 10,
   "metadata": {},
   "outputs": [
    {
     "name": "stdout",
     "output_type": "stream",
     "text": [
      "Task:\n",
      "Extract all event triggers.\n",
      "\n",
      "Example:\n",
      "\tInput:\n",
      "\t\"Covi-19: Governo de estado australiano pede desculpa por erros em quarentenas em hotéis\n",
      "O líder do governo do estado australiano de Victoria pediu hoje desculpa pelos erros do programa de quarentena em dois hotéis que levaram à maioria das mortes por covid-19 no país.\n",
      "Após a divulgação do relatório de investigação, o primeiro-ministro de Victoria, Dan Andrews, explicou que o sistema de quarentena tinha sido implementado rapidamente e sem um livro de regras pandémico.\n",
      "\"Quero pedir desculpa à comunidade vitoriana pelos erros muito claros que foram cometidos neste programa\", disse Andrews.\n",
      "O fraco controlo em dois hotéis de quarentena desencadearam uma onda de infeções na segunda maior cidade da Austrália, enquanto o resto do país tinha estado em grande parte livre de vírus.\n",
      "Das 908 mortes australianas por covid-19, 820 morreram em Victoria.\n",
      "A polícia fornece agora segurança nos hotéis de quarentena de Melbourne, algo que neste dois oitos foram feito por seguranças privados.\n",
      "o estado de Victoria não tinha registada um caso de transmissão comunitária há 52 dias e o aeroporto de Melbourne começou a aceitar chegadas internacionais este mês pela primeira vez desde o início de julho.\"\n",
      "\tOutput:\n",
      "\t[\"pediu\", \"desculpa\", \"erros\", \"levaram\", \"mortes\", \"quarentena\", \"divulga\\u00e7\\u00e3o\", \"explicou\", \"implementado\", \"investiga\\u00e7\\u00e3o\", \"quarentena\", \"Quero\", \"pedir\", \"desculpa\", \"erros\", \"cometidos\", \"disse\", \"fraco controlo\", \"quarentena\", \"desencadearam\", \"infe\\u00e7\\u00f5es\", \"estado em grande parte livre\", \"morreram\", \"fornece\", \"seguran\\u00e7a\", \"quarentena\", \"feito\", \"registada\", \"caso\", \"transmiss\\u00e3o comunit\\u00e1ria\", \"come\\u00e7ou\", \"aceitar\", \"chegadas internacionais\", \"programa\", \"sistema\", \"programa\", \"que\", \"mortes australianas\", \"algo\"]\n",
      "\n",
      "Format:\n",
      "JSON-parseable list of strings.\n",
      "\n",
      "Input:\n",
      "\"$text\"\n",
      "\n",
      "Output:\n",
      "\n"
     ]
    }
   ],
   "source": [
    "annotation = [ent.text for ent in best_doc.events]\n",
    "prompter = Prompter(entity=\"event triggers\", example=best_doc)\n",
    "print(prompter.template.template)"
   ]
  },
  {
   "attachments": {},
   "cell_type": "markdown",
   "metadata": {},
   "source": [
    "### Time Expressions"
   ]
  },
  {
   "cell_type": "code",
   "execution_count": 11,
   "metadata": {},
   "outputs": [
    {
     "name": "stdout",
     "output_type": "stream",
     "text": [
      "Timex classes: {'Date', 'Time', 'Duration', 'Set'}\n"
     ]
    }
   ],
   "source": [
    "timex_classes = set(timex.time_type for doc in dataset for timex in doc.timexs if hasattr(timex, \"time_type\"))\n",
    "print(\"Timex classes:\", timex_classes)"
   ]
  },
  {
   "cell_type": "code",
   "execution_count": 12,
   "metadata": {},
   "outputs": [
    {
     "name": "stdout",
     "output_type": "stream",
     "text": [
      "Max events per document: 9\n"
     ]
    }
   ],
   "source": [
    "n_timex_per_doc = [len(doc.timexs) for doc in dataset] \n",
    "max_timex = max(n_timex_per_doc)\n",
    "\n",
    "print(\"Max events per document:\", max_timex)"
   ]
  },
  {
   "cell_type": "code",
   "execution_count": 13,
   "metadata": {},
   "outputs": [
    {
     "name": "stdout",
     "output_type": "stream",
     "text": [
      "Max events per document class count: Counter({'Time': 4, 'Date': 3, 'Duration': 2})\n"
     ]
    }
   ],
   "source": [
    "max_timex_idx = np.argmax(n_timex_per_doc)\n",
    "doc_max_timexs = dataset[max_timex_idx]\n",
    "\n",
    "max_doc_class_count = Counter([timex.time_type for timex in doc_max_timexs.timexs if hasattr(timex, \"time_type\")])\n",
    "print(\"Max events per document class count:\", max_doc_class_count)"
   ]
  },
  {
   "cell_type": "code",
   "execution_count": 14,
   "metadata": {},
   "outputs": [
    {
     "name": "stdout",
     "output_type": "stream",
     "text": [
      "Document with the most timexs and number of classes: lusa_11\n",
      "Number of timexs: 9\n",
      "Number of timex classes: 3\n"
     ]
    }
   ],
   "source": [
    "best_doc = get_best_document(dataset, \"timexs\", \"time_type\")\n",
    "print(\"Document with the most timexs and number of classes:\", best_doc.id)\n",
    "print(\"Number of timexs:\", len(best_doc.timexs))\n",
    "print(\"Number of timex classes:\", len(set([timex.time_type for timex in best_doc.timexs if hasattr(timex, \"time_type\")])))"
   ]
  },
  {
   "cell_type": "code",
   "execution_count": 15,
   "metadata": {},
   "outputs": [
    {
     "name": "stdout",
     "output_type": "stream",
     "text": [
      "Task:\n",
      "Extract all time expressions.\n",
      "\n",
      "Example:\n",
      "\tInput:\n",
      "\t\"Autoridades moçambicanas apreendem mais de uma tonelada de caranguejo\n",
      "A fiscalização marítima moçambicana apreendeu 1.100 quilos de caranguejo, no centro do país, em menos de uma semana, capturado na \"época de veda\", quando é proibido apanhar a espécie, disse hoje à Lusa fonte das autoridades.\n",
      "A última apreensão aconteceu no sábado quando as autoridades descobriram uma embarcação com 600 quilos de caranguejo.\n",
      "“Estamos a apreender caranguejo e embarcações e os responsáveis incorrem em pesadas multas, caso sejam neutralizados”, explicou o chefe da fiscalização, César Maphossa.\n",
      "No sábado, os tripulantes abandonaram o barco, fundeado nos arredores da cidade da Beira, centro de Moçambique, quando se aperceberam da chegada dos fiscais.\n",
      "A embarcação foi confiscada e os caranguejos, dissimulados em caixas, foram posteriormente devolvidos ao seu habitat natural, no mangal do rio Maria, arredores da capital provincial de Sofala.\n",
      "A apreensão ocorreu menos de uma semana após as autoridades terem descoberto outros 500 quilos de caranguejo capturado também no período de proibição, que começou em setembro e decorre até final do ano.\n",
      "As épocas de veda visam a manutenção e exploração sustentável de espécies marinhas, dando-lhes um período sem captura que permita a recuperação das respetivas populações.\"\n",
      "\tOutput:\n",
      "\t[\"em menos de uma semana\", \"s\\u00e1bado\", \"s\\u00e1bado\", \"setembro\", \"final do ano\", \"menos de uma semana\", \"30 nov 2020\", \"\\u00e9poca de veda\", \"\\u00e9pocas de veda\"]\n",
      "\n",
      "Format:\n",
      "JSON-parseable list of strings.\n",
      "\n",
      "Input:\n",
      "\"$text\"\n",
      "\n",
      "Output:\n",
      "\n"
     ]
    }
   ],
   "source": [
    "annotation = [ent.text for ent in best_doc.timexs]\n",
    "prompter = Prompter(entity=\"time expressions\", example=best_doc)\n",
    "print(prompter.template.template)"
   ]
  },
  {
   "cell_type": "markdown",
   "metadata": {},
   "source": [
    "### Participants"
   ]
  },
  {
   "cell_type": "code",
   "execution_count": 16,
   "metadata": {},
   "outputs": [
    {
     "name": "stdout",
     "output_type": "stream",
     "text": [
      "Participant classes: {'Per', 'Fac', 'Nat', 'Other', 'Obj', 'Loc', 'Org'}\n"
     ]
    }
   ],
   "source": [
    "participant_classes = set(participant.participant_type_domain for doc in dataset for participant in doc.participants if hasattr(participant, \"participant_type_domain\"))\n",
    "print(\"Participant classes:\", participant_classes)"
   ]
  },
  {
   "cell_type": "code",
   "execution_count": 17,
   "metadata": {},
   "outputs": [
    {
     "name": "stdout",
     "output_type": "stream",
     "text": [
      "Max events per document: 48\n"
     ]
    }
   ],
   "source": [
    "n_part_per_doc = [len(doc.participants) for doc in dataset] \n",
    "max_part = max(n_part_per_doc)\n",
    "\n",
    "print(\"Max events per document:\", max_part)"
   ]
  },
  {
   "cell_type": "code",
   "execution_count": 18,
   "metadata": {},
   "outputs": [
    {
     "name": "stdout",
     "output_type": "stream",
     "text": [
      "Max events per document class count: Counter({'Per': 17, 'Loc': 15, 'Org': 8, 'Nat': 6, 'Other': 2})\n"
     ]
    }
   ],
   "source": [
    "max_part_idx = np.argmax(n_part_per_doc)\n",
    "doc_max_parts = dataset[max_part_idx]\n",
    "\n",
    "max_doc_class_count = Counter([part.participant_type_domain for part in doc_max_parts.participants if hasattr(part, \"participant_type_domain\")])\n",
    "print(\"Max events per document class count:\", max_doc_class_count)"
   ]
  },
  {
   "cell_type": "code",
   "execution_count": 19,
   "metadata": {},
   "outputs": [
    {
     "name": "stdout",
     "output_type": "stream",
     "text": [
      "Document with the most participants and number of classes: lusa_156\n",
      "Number of participants: 47\n",
      "Number of participants classes: 6\n"
     ]
    }
   ],
   "source": [
    "best_doc = get_best_document(dataset, \"participants\", \"participant_type_domain\")\n",
    "print(\"Document with the most participants and number of classes:\", best_doc.id)\n",
    "print(\"Number of participants:\", len(best_doc.participants))\n",
    "print(\"Number of participants classes:\", len(set([part.participant_type_domain for part in best_doc.participants if hasattr(part, \"participant_type_domain\")])))"
   ]
  },
  {
   "cell_type": "code",
   "execution_count": 20,
   "metadata": {},
   "outputs": [
    {
     "name": "stdout",
     "output_type": "stream",
     "text": [
      "Task:\n",
      "Extract all participants.\n",
      "\n",
      "Example:\n",
      "\tInput:\n",
      "\t\"Homem armado faz vários reféns dentro de um banco na Geórgia\n",
      "Um homem armado fez hoje à tarde vários reféns, ainda em número incerto, dentro das instalações de um banco na Geórgia, informaram as autoridades desta ex-república soviética.\n",
      "O Ministério do Interior da Geórgia não precisou, até ao momento, quantas pessoas foram feitas reféns dentro do banco, localizado na cidade de Zugdidi (região oeste), ou quais são as exigências do agressor.\n",
      "A polícia isolou, entretanto, a zona onde fica a sucursal bancária e montou uma operação \"para neutralizar o agressor\", informou o ministério num comunicado.\n",
      "A televisão estatal da Geórgia, a Mtavari TV, noticiou que o sequestrador está armado com uma granada de mão e exige 500.000 dólares (cerca de 420.000 euros) em dinheiro.\n",
      "A Mtavari TV conseguiu falar com um dos reféns que indicou que o agressor mantém 19 pessoas dentro das instalações bancárias.\n",
      "O canal de televisão também divulgou um vídeo que mostra uma sala com pessoas sentadas no chão e um homem vestido com um uniforme militar, de rosto coberto, e armado com uma espingarda.\"\n",
      "\tOutput:\n",
      "\t[\"um comunicado\", \"Um homem armado\", \"v\\u00e1rios ref\\u00e9ns\", \"n\\u00famero incerto\", \"as instala\\u00e7\\u00f5es\", \"a Ge\\u00f3rgia\", \"as autoridades\", \"esta ex-rep\\u00fablica sovi\\u00e9tica\", \"O Minist\\u00e9rio do Interior\", \"a Ge\\u00f3rgia\", \"quantas pessoas\", \"ref\\u00e9ns\", \"o banco,\", \"a cidade de Zugdidi (regi\\u00e3o oeste)\", \"quais\", \"o agressor\", \"A pol\\u00edcia\", \"a zona\", \"onde\", \"a sucursal banc\\u00e1ria\", \"o agressor\", \"o minist\\u00e9rio\", \"A televis\\u00e3o estatal\", \"a Mtavari TV\", \"o sequestrador\", \"uma granada de m\\u00e3o\", \"500.000 d\\u00f3lares (cerca de 420.000 euros)\", \"dinheiro\", \"A Mtavari TV\", \"um\", \"os ref\\u00e9ns\", \"o agressor\", \"19 pessoas\", \"as instala\\u00e7\\u00f5es banc\\u00e1rias\", \"O canal de televis\\u00e3o\", \"um v\\u00eddeo\", \"uma sala\", \"pessoas\", \"o ch\\u00e3o\", \"um homem\", \"um uniforme militar\", \"rosto\", \"uma espingarda\", \"um banco\", \"que\", \"a Ge\\u00f3rgia\", \"que\"]\n",
      "\n",
      "Format:\n",
      "JSON-parseable list of strings.\n",
      "\n",
      "Input:\n",
      "\"$text\"\n",
      "\n",
      "Output:\n",
      "\n"
     ]
    }
   ],
   "source": [
    "annotation = [ent.text for ent in best_doc.participants]\n",
    "prompter = Prompter(entity=\"participants\", example=best_doc)\n",
    "print(prompter.template.template)"
   ]
  },
  {
   "cell_type": "code",
   "execution_count": null,
   "metadata": {},
   "outputs": [],
   "source": []
  },
  {
   "cell_type": "code",
   "execution_count": null,
   "metadata": {},
   "outputs": [],
   "source": []
  },
  {
   "cell_type": "markdown",
   "metadata": {},
   "source": [
    "## English"
   ]
  },
  {
   "cell_type": "code",
   "execution_count": 19,
   "metadata": {},
   "outputs": [
    {
     "name": "stderr",
     "output_type": "stream",
     "text": [
      "100%|██████████| 183/183 [00:00<00:00, 365.45it/s]\n"
     ]
    }
   ],
   "source": [
    "DATA_PATH = ROOT / \"resources\" / \"timebank\"\n",
    "dataset = read_timebank(DATA_PATH)"
   ]
  },
  {
   "cell_type": "code",
   "execution_count": 20,
   "metadata": {},
   "outputs": [],
   "source": [
    "SAMPLE_DOCS_IDS = [\n",
    "    \"wsj_0551\",\n",
    "    \"wsj_0815\",\n",
    "    \"wsj_0135\",\n",
    "    \"wsj_1042\",\n",
    "    \"wsj_0266\",\n",
    "    \"wsj_0924\",\n",
    "    \"PRI19980306.2000.1675\",\n",
    "    \"wsj_0332\",\n",
    "    \"wsj_0176\",\n",
    "    \"wsj_0348\",\n",
    "    \"wsj_0144\",\n",
    "    \"wsj_0670\",\n",
    "    \"ABC19980114.1830.0611\",\n",
    "    \"wsj_0674\",\n",
    "    \"wsj_0376\",\n",
    "    \"VOA19980305.1800.2603\",\n",
    "    \"APW19980301.0720\",\n",
    "    \"wsj_0938\",\n",
    "    \"wsj_0745\",\n",
    "    \"wsj_0584\",\n",
    "]\n",
    "\n",
    "# remove documents used in the selection of the prompts\n",
    "dataset = [doc for doc in dataset if doc.id not in SAMPLE_DOCS_IDS]"
   ]
  },
  {
   "cell_type": "code",
   "execution_count": 21,
   "metadata": {},
   "outputs": [],
   "source": [
    "def get_best_document(documents, entities, attribute):\n",
    "    best_doc = None\n",
    "    max_n_entities, max_n_classes = None, None\n",
    "    for doc in documents:\n",
    "        if len(doc.text.split(\" \")) > 600:  # avoid big examples\n",
    "            continue\n",
    "        \n",
    "        doc_classes = set([\n",
    "            getattr(entity, attribute)\n",
    "            for entity in getattr(doc, entities)\n",
    "            if hasattr(entity, str(attribute))\n",
    "        ])\n",
    "        \n",
    "        n_doc_classes = len(doc_classes)\n",
    "        n_entities = len(getattr(doc, entities))\n",
    "\n",
    "        if best_doc is None:\n",
    "            best_doc = doc\n",
    "            max_n_entities = n_entities\n",
    "            max_n_classes = n_doc_classes\n",
    "            continue\n",
    "        \n",
    "        if n_doc_classes >= max_n_classes and n_entities >= max_n_entities:\n",
    "            max_n_entities = n_entities\n",
    "            max_n_classes = n_doc_classes\n",
    "            best_doc = doc\n",
    "    return best_doc"
   ]
  },
  {
   "cell_type": "markdown",
   "metadata": {},
   "source": [
    "### Events"
   ]
  },
  {
   "cell_type": "code",
   "execution_count": 22,
   "metadata": {},
   "outputs": [
    {
     "name": "stdout",
     "output_type": "stream",
     "text": [
      "Event classes: {'I_ACTION', 'STATE', 'OCCURRENCE', 'PERCEPTION', 'ASPECTUAL', 'REPORTING', 'I_STATE'}\n"
     ]
    }
   ],
   "source": [
    "event_classes = set(event.class_ for doc in dataset for event in doc.events if hasattr(event, \"class_\"))\n",
    "print(\"Event classes:\", event_classes)"
   ]
  },
  {
   "cell_type": "code",
   "execution_count": 23,
   "metadata": {},
   "outputs": [
    {
     "name": "stdout",
     "output_type": "stream",
     "text": [
      "Max events per document: 269\n"
     ]
    }
   ],
   "source": [
    "n_event_per_doc = [len(doc.events) for doc in dataset] \n",
    "max_events = max(n_event_per_doc)\n",
    "\n",
    "print(\"Max events per document:\", max_events)"
   ]
  },
  {
   "cell_type": "code",
   "execution_count": 24,
   "metadata": {},
   "outputs": [
    {
     "name": "stdout",
     "output_type": "stream",
     "text": [
      "Max events per document class count: Counter({'OCCURRENCE': 189, 'REPORTING': 26, 'STATE': 17, 'I_STATE': 15, 'PERCEPTION': 8, 'ASPECTUAL': 7, 'I_ACTION': 7})\n"
     ]
    }
   ],
   "source": [
    "max_events_idx = np.argmax(n_event_per_doc)\n",
    "doc_max_events = dataset[max_events_idx]\n",
    "\n",
    "max_doc_class_count = Counter([event.class_ for event in doc_max_events.events if hasattr(event, \"class_\")])\n",
    "print(\"Max events per document class count:\", max_doc_class_count)"
   ]
  },
  {
   "cell_type": "code",
   "execution_count": 25,
   "metadata": {},
   "outputs": [],
   "source": [
    "best_doc = get_best_document(dataset, \"events\", \"class_\")"
   ]
  },
  {
   "cell_type": "code",
   "execution_count": 26,
   "metadata": {},
   "outputs": [
    {
     "name": "stdout",
     "output_type": "stream",
     "text": [
      "Document with the most events and number of classes: APW19980213.1310\n"
     ]
    }
   ],
   "source": [
    "print(\"Document with the most events and number of classes:\", best_doc.id)"
   ]
  },
  {
   "cell_type": "code",
   "execution_count": 27,
   "metadata": {},
   "outputs": [
    {
     "name": "stdout",
     "output_type": "stream",
     "text": [
      "Task:\n",
      "Extract all event triggers.\n",
      "\n",
      "Example:\n",
      "\tInput:\n",
      "\t\"Turning its back on 210 years of loyalty to the British royal family, a constitutional convention voted overwhelmingly Friday to make Australia a republic under its own president. Prime Minister John Howard, a monarchist himself, promised to put the question to a national referendum next year after convention delegates voted 89-52 for a republic, with 11 abstentions. Spontaneous applause echoed through the chamber and public galleries as the crucial vote passed by a wide margin. ``I want a referendum,'' Howard said. ``The Australian people are owed the opportunity of expressing an opinion on this.'' ``It would be a travesty in common sense terms of Australian democracy for that proposition not to be put to the Australian people,'' Howard said. Even in his own Cabinet, Howard is becoming increasingly isolated with his monarchist stance. Treasurer Peter Costello, Environment Minister Robert Hill and Attorney General Daryl Williams all voted to support the republic Friday. ``This convention will be seen as a turning point in our history,'' Australian Republican Movement spokeswoman Mary Delahunty said. Pro-republicans hope to have an Australian president by the opening of the 2000 Olympics and the 100th anniversary of Australian federation. Calling for an amended constitution with a new preamble, to be written by Australian poets, republican Janet Holmes a Court said, ``We need the smell of eucalyptus in this, and the feel of red dust.'' Monarchists hope to defeat the republic at the referendum. ``The phony war has finished and the real referendum campaign has clearly begun,'' Australians for a Constitutional Monarchy executive director Kerry Jones said. ``Well may we say `God save the Queen,' for nothing will save the republic,'' outraged monarchist delegate David Mitchell said. ``The idea of a republic will fall to dust through the grace of almighty God.'' Polls have shown public support for a republic increasing, rising from about 35 percent several years ago to about 51 percent this year, as pro-monarchist sentiment diminishes. Australia has been independent since 1901, but like many Commonwealth nations it still recognizes the British monarch as its head of state. Howard said Queen Elizabeth II is taking a great interest in the convention. ``She is, I can assure you, from what I've been told, she's following the thing very closely and taking the view it's our business. ``It's no secret that she's indicated to me... she is a 20th century democrat, understands that the role of the crown in Australia rests in the hands of the Australian people as it has for almost a hundred years.'' The model for a republic, adopted over bitter objections from those advocating direct election of a president, is for presidential nominations to be made with public input and the winning candidate decided by a two-thirds majority of Parliament. Former prime minister Paul Keating, who put the republic issue in the spotlight in his unsuccessful 1996 campaign for re-election, welcomed the result. ``This is an important step along the path towards Australia claiming its full sovereignty, and due recognition that the monarchy can no longer serve us appropriately,'' Keating said.\"\n",
      "\tOutput:\n",
      "\t[\"following\", \"result\", \"expressing\", \"welcomed\", \"said\", \"increasing\", \"said\", \"echoed\", \"referendum\", \"becoming\", \"assure\", \"owed\", \"seen\", \"campaign\", \"told\", \"put\", \"vote\", \"put\", \"adopted\", \"indicated\", \"support\", \"hope\", \"passed\", \"begun\", \"applause\", \"voted\", \"said\", \"taking\", \"war\", \"say\", \"travesty\", \"shown\", \"taking\", \"said\", \"rising\", \"voted\", \"voted\", \"promised\", \"fall\", \"isolated\", \"has\", \"want\", \"written\", \"opening\", \"recognizes\", \"make\", \"hope\", \"have\", \"save\", \"referendum\", \"advocating\", \"Calling\", \"put\", \"objections\", \"diminishes\", \"campaign\", \"need\", \"referendum\", \"said\", \"said\", \"rests\", \"said\", \"defeat\", \"finished\", \"convention\", \"Turning\", \"understands\", \"independent\"]\n",
      "\n",
      "Format:\n",
      "JSON-parseable list of strings.\n",
      "\n",
      "Input:\n",
      "\"\"\n",
      "\n",
      "Output:\n",
      "\n"
     ]
    }
   ],
   "source": [
    "annotation = [ent.text for ent in best_doc.events]\n",
    "prompter = Prompter(entity=\"event triggers\", example=best_doc)\n",
    "print(prompter.template.substitute(text=\"\"))"
   ]
  },
  {
   "cell_type": "markdown",
   "metadata": {},
   "source": [
    "### Time Expressions"
   ]
  },
  {
   "cell_type": "code",
   "execution_count": 28,
   "metadata": {},
   "outputs": [
    {
     "name": "stdout",
     "output_type": "stream",
     "text": [
      "Timex classes: {'SET', 'DURATION', 'DATE', 'TIME'}\n"
     ]
    }
   ],
   "source": [
    "timex_classes = set(timex.time_type for doc in dataset for timex in doc.timexs if hasattr(timex, \"time_type\"))\n",
    "print(\"Timex classes:\", timex_classes)"
   ]
  },
  {
   "cell_type": "code",
   "execution_count": 29,
   "metadata": {},
   "outputs": [
    {
     "name": "stdout",
     "output_type": "stream",
     "text": [
      "Max events per document: 34\n"
     ]
    }
   ],
   "source": [
    "n_timex_per_doc = [len(doc.timexs) for doc in dataset] \n",
    "max_timex = max(n_timex_per_doc)\n",
    "\n",
    "print(\"Max events per document:\", max_timex)"
   ]
  },
  {
   "cell_type": "code",
   "execution_count": 30,
   "metadata": {},
   "outputs": [
    {
     "name": "stdout",
     "output_type": "stream",
     "text": [
      "Max events per document class count: Counter({'DATE': 29, 'DURATION': 4, 'TIME': 1})\n"
     ]
    }
   ],
   "source": [
    "max_timex_idx = np.argmax(n_timex_per_doc)\n",
    "doc_max_timexs = dataset[max_timex_idx]\n",
    "\n",
    "max_doc_class_count = Counter([timex.time_type for timex in doc_max_timexs.timexs if hasattr(timex, \"time_type\")])\n",
    "print(\"Max events per document class count:\", max_doc_class_count)"
   ]
  },
  {
   "cell_type": "code",
   "execution_count": 31,
   "metadata": {},
   "outputs": [
    {
     "name": "stdout",
     "output_type": "stream",
     "text": [
      "Document with the most timexs and number of classes: APW19980306.1001\n",
      "Number of timexs: 16\n",
      "Number of timex classes: 4\n"
     ]
    }
   ],
   "source": [
    "best_doc = get_best_document(dataset, \"timexs\", \"time_type\")\n",
    "print(\"Document with the most timexs and number of classes:\", best_doc.id)\n",
    "print(\"Number of timexs:\", len(best_doc.timexs))\n",
    "print(\"Number of timex classes:\", len(set([timex.time_type for timex in best_doc.timexs if hasattr(timex, \"time_type\")])))"
   ]
  },
  {
   "cell_type": "code",
   "execution_count": 32,
   "metadata": {},
   "outputs": [
    {
     "name": "stdout",
     "output_type": "stream",
     "text": [
      "Task:\n",
      "Extract all time expressions.\n",
      "\n",
      "Example:\n",
      "\tInput:\n",
      "\t\"BAGHDAD, Iraq (AP)_ An American leader of a U.N. weapons inspection team resumed work in Iraq Friday, nearly two months after his team was effectively blocked. Scott Ritter led his team on a 10-hour tour of three suspected weapons sites classified as ``sensitive'' by the Iraqi authorities, U.N. spokesman Alan Dacey said. ``All sites were inspected to the satisfaction of the inspection team and with full cooperation of Iraqi authorities,'' Dacey said. At least one of the sensitive sites was a barracks of the elite Republican Guard, a well-placed source told The Associated Press. Previously the Iraqis have resisted attempts to inspect such quarters. The U.N. Security Council has charged the inspectors with verifying that Iraq has destroyed its long-range missiles and weapons of mass destruction. It was the first time that Ritter, who arrived Thursday with some 50 inspectors for a tour likely to last over a week, had been allowed to carry out an inspection since Jan. 13. Then the Baghdad government stopped providing Ritter's team with escorts, making it impossible for him to enter any site. Iraq alleged Ritter was an American spy whose team had a disproportionately high number of Americans and Britons. The official Iraqi News Agency, which gives the daily tally of inspections, did not mention Ritter by name, but said Friday that team no. 225 _ which Ritter heads _ made surprise visits to a number of sites and was assisted by aerial surveillance. Five other U.N. inspection teams visited a total of nine other sites, the agency reported. An Iraqi official, speaking on customary condition of anonymity, said Ritter would not try to visit any of the eight presidential sites that Baghdad had placed off-limits to U.N. weapons inspectors. The official said these sites could only be visited by a special team of U.N. monitors and diplomats as laid down by the Feb. 23 accord signed by U.N. Secretary-General Kofi Annan and Iraqi Deputy Prime Minister Tariq Aziz. Ritter's return is seen as something of a test of that agreement, under which Iraq agreed to give inspectors full access to eight of Saddam Hussein's presidential palaces. The United States had moved additional troops and a naval armada into the Gulf and said it would strike Iraq unless it gave the U.N. arms inspectors unfettered access to all potential weapons sites, including Saddam's palaces. Iraq had argued the presidential sites should be off limits as symbols of sovereignty. A Pentagon spokesman said Thursday that the 38,000 U.S. troops in the Gulf will remain until Iraq complies with the U.N. Security Council agreement over weapons inspections. ``We are going to maintain our forces in the region for the foreseeable future,'' said spokesman Kenneth Bacon. The U.N.-Iraq accord was worked out by U.N. Secretary-General Kofi Annan, who appointed a retired Indian diplomat on Thursday as his special representative to Iraq. Prakash Shah, 58, a former Indian ambassador to the United Nations, is part of an effort by Annan to expand contacts with the Iraqi leadership. Palace inspections are not expected to start until the new agreement's procedures are in place. U.N. officials in New York on Friday finished drafting the rules, in consultation with Iraqi diplomats. The procedures are due to go before the Security Council next week. The Security Council has said it will not lift the sweeping sanctions imposed on Iraq after its 1990 invasion of Kuwait until the U.N. inspectors certify that Baghdad has eliminated its weapons of mass destruction.\"\n",
      "\tOutput:\n",
      "\t[\"Jan. 13\", \"Thursday\", \"1990\", \"daily\", \"Friday\", \"Feb. 23\", \"Thursday\", \"Thursday\", \"10-hour\", \"Previously\", \"over a week\", \"Friday\", \"03/06/1998 13:19:00\", \"nearly two months\", \"Friday\", \"next week\"]\n",
      "\n",
      "Format:\n",
      "JSON-parseable list of strings.\n",
      "\n",
      "Input:\n",
      "\"\"\n",
      "\n",
      "Output:\n",
      "\n"
     ]
    }
   ],
   "source": [
    "annotation = [ent.text for ent in best_doc.timexs]\n",
    "prompter = Prompter(entity=\"time expressions\", example=best_doc)\n",
    "print(prompter.template.substitute(text=\"\"))"
   ]
  },
  {
   "cell_type": "code",
   "execution_count": null,
   "metadata": {},
   "outputs": [],
   "source": []
  }
 ],
 "metadata": {
  "kernelspec": {
   "display_name": "venv",
   "language": "python",
   "name": "python3"
  },
  "language_info": {
   "codemirror_mode": {
    "name": "ipython",
    "version": 3
   },
   "file_extension": ".py",
   "mimetype": "text/x-python",
   "name": "python",
   "nbconvert_exporter": "python",
   "pygments_lexer": "ipython3",
   "version": "3.9.2"
  },
  "orig_nbformat": 4
 },
 "nbformat": 4,
 "nbformat_minor": 2
}
